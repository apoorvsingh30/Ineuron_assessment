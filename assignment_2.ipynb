{
 "cells": [
  {
   "cell_type": "code",
   "execution_count": null,
   "id": "06143155",
   "metadata": {},
   "outputs": [],
   "source": [
    "Abstract class-\n",
    "abstract class = a class which contains one or more abstract methods.\n",
    "abstract method = a method that has a declaration but does not have an implementation\n",
    "It prevents a user from creating an object of that class\n",
    "It compels a user to override abstract methods in a child class\n",
    "\n",
    "from abc import ABC, abstractmethod\n",
    "\n",
    "\n",
    "class AbstractClassName(ABC):\n",
    "    @abstractmethod\n",
    "    def abstract_method_name(self):\n",
    "        pass\n"
   ]
  },
  {
   "cell_type": "code",
   "execution_count": null,
   "id": "5a8035e2",
   "metadata": {},
   "outputs": [],
   "source": [
    "Multiple Inheritance-\n",
    "When you inherit a child class from more than one base classes, that situation is known as Multiple Inheritance.\n",
    "\n",
    "Class Base1:\n",
    "       Body of the class\n",
    "\n",
    "Class Base2:\n",
    "     Body of the class\n",
    "\n",
    "Class Derived(Base1, Base2):\n",
    "     Body of the class"
   ]
  },
  {
   "cell_type": "code",
   "execution_count": null,
   "id": "6b73a0f9",
   "metadata": {},
   "outputs": [],
   "source": [
    "Decorator-\n",
    "A decorator in Python is a function that takes another function as its argument, and returns yet another function .\n",
    "\n",
    "def my_decorator_func(func):\n",
    "\n",
    "    def wrapper_func():\n",
    "        # Do something before the function.\n",
    "        func()\n",
    "        # Do something after the function.\n",
    "    return wrapper_func"
   ]
  }
 ],
 "metadata": {
  "kernelspec": {
   "display_name": "Python 3 (ipykernel)",
   "language": "python",
   "name": "python3"
  },
  "language_info": {
   "codemirror_mode": {
    "name": "ipython",
    "version": 3
   },
   "file_extension": ".py",
   "mimetype": "text/x-python",
   "name": "python",
   "nbconvert_exporter": "python",
   "pygments_lexer": "ipython3",
   "version": "3.9.7"
  }
 },
 "nbformat": 4,
 "nbformat_minor": 5
}
