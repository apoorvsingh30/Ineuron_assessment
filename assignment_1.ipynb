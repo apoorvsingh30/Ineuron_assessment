{
 "cells": [
  {
   "cell_type": "code",
   "execution_count": 4,
   "id": "fc2c8f0f",
   "metadata": {},
   "outputs": [
    {
     "name": "stdout",
     "output_type": "stream",
     "text": [
      "This is a screening assignment\n"
     ]
    }
   ],
   "source": [
    "from pathlib2 import Path\n",
    "  \n",
    "\n",
    "def replacetext(search_text, replace_text):\n",
    "  \n",
    "    file = Path(r\"example.txt\")\n",
    "  \n",
    "    data = file.read_text()\n",
    "  \n",
    "    data = data.replace(search_text, replace_text)\n",
    "  \n",
    "    file.write_text(data)\n",
    "  \n",
    "    return str(data)\n",
    "  \n",
    "  \n",
    "\n",
    "search_text = \"placement\"\n",
    "  \n",
    "\n",
    "replace_text = \"screening\"\n",
    "  \n",
    "\n",
    "print(replacetext(search_text, replace_text))"
   ]
  },
  {
   "cell_type": "code",
   "execution_count": null,
   "id": "a3145d16",
   "metadata": {},
   "outputs": [],
   "source": []
  }
 ],
 "metadata": {
  "kernelspec": {
   "display_name": "Python 3 (ipykernel)",
   "language": "python",
   "name": "python3"
  },
  "language_info": {
   "codemirror_mode": {
    "name": "ipython",
    "version": 3
   },
   "file_extension": ".py",
   "mimetype": "text/x-python",
   "name": "python",
   "nbconvert_exporter": "python",
   "pygments_lexer": "ipython3",
   "version": "3.9.7"
  }
 },
 "nbformat": 4,
 "nbformat_minor": 5
}
